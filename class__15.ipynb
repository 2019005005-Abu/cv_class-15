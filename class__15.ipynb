import tensorflow as tf;
import numpy as np;
import pandas as pd;
import matplotlib.pyplot as plt;
from IPython.display import clear_output;
from six.moves import urllib;
from keras.datasets import fashion_mnist;

(train__Images,train__labels),(test__Images,test__label)=fashion_mnist.load_data();
fashion_mnist
train__Images
class_names=[

]
train__Images.shape
len(test__label)
train__labels
len(train__labels.shape)
plt.figure();
plt.imshow(train__Images[0])
plt.colorbar();
plt.grid(False)
plt.show();

##With grid
plt.figure();
plt.imshow(train__Images[0])
plt.colorbar();
plt.grid(True)
plt.show();



plt.figure();
plt.imshow(train__Images[11])
plt.colorbar();
plt.grid(True)
plt.show()


train__Images=train__Images/255.0
test__Images=test__Images/255.0


import matplotlib.pyplot as plt;

class_names = ['airplane', 'automobile', 'bird', 'cat', 'deer',
               'dog', 'frog', 'horse', 'ship', 'truck']
plt.figure(figsize=(10,10))
for i in range(25):
  plt.subplot(5,5,i+1);
  plt.xticks([]);
  plt.yticks([]);
  plt.grid(False);
  plt.imshow(train__Images[i], cmap=plt.cm.binary)
  plt.xlabel(class_names[train__labels[i]])
plt.tight_layout()
plt.show();


model=tf.keras.Sequential([
    tf.keras.layers.Flatten(input_shape=(28,28)),
    tf.keras.layers.Dense(128,activation='relu'),
    tf.keras.layers.Dense(10)
])
model



model_compiling=model.compile(
    optimizer='adam',
    loss=tf.keras.losses.SparseCategoricalCrossentropy(
        from_logits=True,
    ),
    metrics=['accuracy']
)
model_compiling


model.fit(train__Images,train__labels,epochs=10)


from re import VERBOSE
test__loss,test_accuracy=model.evaluate(
    test__Images,
    test__label,
    verbose=2
)
print(f"test accuracy calculation:{test_accuracy}")



##Probabilities model
probabilities__model=tf.keras.Sequential([
    model,
    tf.keras.layers.Softmax()
])
probabilities__model.summary()




indexIs=0
predictions=probabilities__model.predict(test__Images)
predictions[0]



i=10;
plt.figure(figsize=(6,3))
plt.subplot(1,2,1)
plt_im


from ydata_profiling import ProfileReport
import pandas as pd;
dftrain=pd.read_csv('https://storage.googleapis.com/tf-datasets/titanic/train.csv')
dftest=pd.read_csv('https://storage.googleapis.com/tf-datasets/titanic/eval.csv')
profile=ProfileReport(dftrain,title="Profile Report")
dftrain.head()



